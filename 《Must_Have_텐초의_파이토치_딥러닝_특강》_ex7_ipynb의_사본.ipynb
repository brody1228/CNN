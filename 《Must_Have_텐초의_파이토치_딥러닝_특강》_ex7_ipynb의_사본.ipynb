{
  "nbformat": 4,
  "nbformat_minor": 0,
  "metadata": {
    "colab": {
      "provenance": [],
      "collapsed_sections": [],
      "include_colab_link": true
    },
    "kernelspec": {
      "name": "python3",
      "display_name": "Python 3"
    },
    "language_info": {
      "name": "python"
    },
    "accelerator": "GPU"
  },
  "cells": [
    {
      "cell_type": "markdown",
      "metadata": {
        "id": "view-in-github",
        "colab_type": "text"
      },
      "source": [
        "<a href=\"https://colab.research.google.com/github/brody1228/Mycode/blob/main/%E3%80%8AMust_Have_%ED%85%90%EC%B4%88%EC%9D%98_%ED%8C%8C%EC%9D%B4%ED%86%A0%EC%B9%98_%EB%94%A5%EB%9F%AC%EB%8B%9D_%ED%8A%B9%EA%B0%95%E3%80%8B_ex7_ipynb%EC%9D%98_%EC%82%AC%EB%B3%B8.ipynb\" target=\"_parent\"><img src=\"https://colab.research.google.com/assets/colab-badge.svg\" alt=\"Open In Colab\"/></a>"
      ]
    },
    {
      "cell_type": "markdown",
      "source": [
        "# 입력과 정답 이미지 확인하기"
      ],
      "metadata": {
        "id": "zfyrSaYWJfoE"
      }
    },
    {
      "cell_type": "code",
      "source": [
        "import matplotlib.pyplot as plt\n",
        "from PIL import Image\n",
        "\n",
        "## data 경로 ## \n",
        "\n",
        "path_to_annotation = \\\n",
        "    \"C:\\Users\\LG\\Downloads\\annotations\\annotations\\trimaps\"\n",
        "path_to_image = \\\n",
        "    \"C:\\Users\\LG\\Downloads\\images\"\n",
        "\n",
        "## Image.open으로 길을 열어본다. plt를 이용\n",
        "annotation = Image.open(path_to_annotation + \"._Abyssinian_1.png\") # 이미지를 불러옴\n",
        "plt.subplot(1, 2, 1)\n",
        "plt.title(\"annotation\")\n",
        "plt.imshow(annotation)\n",
        "\n",
        "image = Image.open(path_to_image + \"Abyssinian_1.jpg\")\n",
        "plt.subplot(1, 2, 2)\n",
        "plt.title(\"image\")\n",
        "plt.imshow(image)\n",
        "\n",
        "plt.show()"
      ],
      "metadata": {
        "colab": {
          "base_uri": "https://localhost:8080/",
          "height": 156
        },
        "id": "3yizl8zVJfU9",
        "outputId": "7f8c9c14-e5b5-4a98-9b39-853ed4e7ea4e"
      },
      "execution_count": null,
      "outputs": [
        {
          "output_type": "error",
          "ename": "SyntaxError",
          "evalue": "ignored",
          "traceback": [
            "\u001b[0;36m  File \u001b[0;32m\"<ipython-input-1-9fdf2bab1a0c>\"\u001b[0;36m, line \u001b[0;32m6\u001b[0m\n\u001b[0;31m    \"C:\\Users\\LG\\Downloads\\annotations\\annotations\\trimaps\"\u001b[0m\n\u001b[0m    ^\u001b[0m\n\u001b[0;31mSyntaxError\u001b[0m\u001b[0;31m:\u001b[0m (unicode error) 'unicodeescape' codec can't decode bytes in position 2-3: truncated \\UXXXXXXXX escape\n"
          ]
        }
      ]
    },
    {
      "cell_type": "markdown",
      "source": [
        "# 데이터셋 만들기"
      ],
      "metadata": {
        "id": "dAvCK77AWxhd"
      }
    },
    {
      "cell_type": "code",
      "execution_count": null,
      "metadata": {
        "id": "kwvYsWQTWVQG"
      },
      "outputs": [],
      "source": [
        "import glob\n",
        "import torch\n",
        "import numpy as np\n",
        "\n",
        "from torch.utils.data.dataset import Dataset\n",
        "from PIL import Image\n",
        "\n",
        "\n",
        "## ## path, train, transform, input size\n",
        "class Pets(Dataset):\n",
        "   def __init__(self, path_to_img, \n",
        "                path_to_anno, \n",
        "                train=True, \n",
        "                transforms=None, \n",
        "                input_size=(128, 128)):\n",
        "\n",
        "       # ❶ 정답과 입력 이미지를 이름순으로 정렬  ## 리스트로 만들고, 정렬한다 ##\n",
        "       self.images = sorted(glob.glob(path_to_img+\"/*.jpg\"))\n",
        "       self.annotations = sorted(glob.glob(path_to_anno + \"/*.png\"))\n",
        "\n",
        "\n",
        "       # ❷ 데이터셋을 학습과 평가용으로 나눔 ## int로 len(self.images)이용\n",
        "       self.X_train = self.images[:int(0.8 * len(self.images))]\n",
        "       self.X_test = self.images[int(0.8 * len(self.images)):]\n",
        "       self.Y_train = self.annotations[\n",
        "                :int(0.8 * len(self.annotations))]\n",
        "       self.Y_test = self.annotations[\n",
        "                int(0.8 * len(self.annotations)):]\n",
        "\n",
        "       self.train = train  # 학습용 데이터 평가용 데이터 결정 여부\n",
        "       self.transforms = transforms  # 사용할 데이터 증강\n",
        "       self.input_size = input_size  # 입력 이미지 크기\n",
        "\n",
        "   def __len__(self):  # 데이터 개수를 나타냄\n",
        "       if self.train:\n",
        "           return len(self.X_train)  # 학습용 데이터셋 길이\n",
        "       else:\n",
        "           return len(self.X_test)   # 평가용 데이터셋 길이\n",
        "\n",
        "\n",
        "   def preprocess_mask(self, mask):  # ➋ 정답을 변환해주는 함수\n",
        "       mask = mask.resize(self.input_size)\n",
        "\n",
        "       ## np.array(mask)에서 astype(np.float32)이용\n",
        "       mask = np.array(mask).astype(np.float32) \n",
        "       mask[mask != 2.0] = 1.0 \n",
        "       mask[mask == 2.0] = 0.0 \n",
        "       \n",
        "       ## torch.tensor(mask)로 해야 한다 ##\n",
        "       mask = torch.tensor(mask)  \n",
        "       return mask\n",
        "\n",
        "   def __getitem__(self, i):  # i번째 데이터와 정답을 반환\n",
        "       if self.train:  # 학습용 데이터\n",
        "           X_train = Image.open(self.X_train[i])\n",
        "           X_train = self.transforms(X_train)\n",
        "           Y_train = Image.open(self.Y_train[i])\n",
        "           Y_train = self.preprocess_mask(Y_train)\n",
        "\n",
        "           return X_train, Y_train\n",
        "\n",
        "       else:  # 평가용 데이터\n",
        "           X_test = Image.open(self.X_test[i])\n",
        "           X_test = self.transforms(X_test)\n",
        "           Y_test = Image.open(self.Y_test[i])\n",
        "           Y_test = self.preprocess_mask(Y_test)\n",
        "\n",
        "           return X_test, Y_test"
      ]
    },
    {
      "cell_type": "markdown",
      "source": [
        "# U-Net 모델 정의하기"
      ],
      "metadata": {
        "id": "ctlu9XNndQ0g"
      }
    },
    {
      "cell_type": "code",
      "source": [
        "import torch.nn as nn\n",
        "\n",
        "\n",
        "class UNet(nn.Module):\n",
        "   def __init__(self):\n",
        "       super(UNet, self).__init__()\n",
        "       # ❶ U-Net의 인코더에 사용되는 은닉층\n",
        "       self.enc1_1 = nn.Conv2d(3, 64, kernel_size=3, padding=1)\n",
        "       self.enc1_2 = nn.Conv2d(64, 64, kernel_size=3, padding=1)\n",
        "       self.pool1 = nn.MaxPool2d(kernel_size=2, stride=2)\n",
        "\n",
        "       self.enc2_1 = nn.Conv2d(64, 128, kernel_size=3, padding=1)\n",
        "       self.enc2_2 = nn.Conv2d(128, 128, kernel_size=3, padding=1)\n",
        "       self.pool2 = nn.MaxPool2d(kernel_size=2, stride=2)\n",
        "\n",
        "       self.enc3_1 = nn.Conv2d(128, 256, kernel_size=3, padding=1)\n",
        "       self.enc3_2 = nn.Conv2d(256, 256, kernel_size=3, padding=1)\n",
        "       self.pool3 = nn.MaxPool2d(kernel_size=2, stride=2)\n",
        "\n",
        "       self.enc4_1 = nn.Conv2d(256, 512, kernel_size=3, padding=1)\n",
        "       self.enc4_2 = nn.Conv2d(512, 512, kernel_size=3, padding=1)\n",
        "       self.pool4 = nn.MaxPool2d(kernel_size=2, stride=2)\n",
        "\n",
        "       self.enc5_1 = nn.Conv2d(512, 1024, kernel_size=3, padding=1)\n",
        "       self.enc5_2 = nn.Conv2d(1024, 512, kernel_size=3, padding=1)\n",
        "       # 디코더에 사용되는 은닉층\n",
        "       self.upsample4 = nn.ConvTranspose2d(512, 512, 2, stride=2)\n",
        "       self.dec4_1 = nn.Conv2d(1024, 512, kernel_size=3, padding=1)\n",
        "       self.dec4_2 = nn.Conv2d(512, 256, kernel_size=3, padding=1)\n",
        "\n",
        "       self.upsample3 = nn.ConvTranspose2d(256, 256, 2, stride=2)\n",
        "       self.dec3_1 = nn.Conv2d(512, 256, kernel_size=3, padding=1)\n",
        "       self.dec3_2 = nn.Conv2d(256, 128, kernel_size=3, padding=1)\n",
        "\n",
        "       self.upsample2 = nn.ConvTranspose2d(128, 128, 2, stride=2)\n",
        "       self.dec2_1 = nn.Conv2d(256, 128, kernel_size=3, padding=1)\n",
        "       self.dec2_2 = nn.Conv2d(128, 64, kernel_size=3, padding=1)\n",
        "\n",
        "       self.upsample1 = nn.ConvTranspose2d(64, 64, 2, stride=2)\n",
        "       self.dec1_1 = nn.Conv2d(128, 64, kernel_size=3, padding=1)\n",
        "       self.dec1_2 = nn.Conv2d(64, 64, kernel_size=3, padding=1)\n",
        "       self.dec1_3 = nn.Conv2d(64, 1, kernel_size=1)\n",
        "\n",
        "\n",
        "       # 합성곱과 업샘플링층의 활성화 함수\n",
        "       self.relu = nn.ReLU()\n",
        "       # 출력층의 활성화함수\n",
        "       self.sigmoid = nn.Sigmoid()\n",
        "  \n",
        "  \n",
        "   def forward(self, x):\n",
        "       x = self.enc1_1(x)\n",
        "       x = self.relu(x)\n",
        "       e1 = self.enc1_2(x)  # ❶ 디코더에서 사용하기 위해 따로 변수를 지정\n",
        "       e1 = self.relu(e1)   # ❷ 합성곱층의 출력의 활성화\n",
        "       x = self.pool1(e1)\n",
        "\n",
        "       x = self.enc2_1(x)\n",
        "       x = self.relu(x)\n",
        "       e2 = self.enc2_2(x)\n",
        "       e2 = self.relu(e2)\n",
        "       x = self.pool2(e2)\n",
        "\n",
        "       x = self.enc3_1(x)\n",
        "       x = self.relu(x)\n",
        "       e3 = self.enc3_2(x)\n",
        "       e3 = self.relu(e3)\n",
        "       x = self.pool3(e3)\n",
        "\n",
        "       x = self.enc4_1(x)\n",
        "       x = self.relu(x)\n",
        "       e4 = self.enc4_2(x)\n",
        "       e4 = self.relu(e4)\n",
        "       x = self.pool4(e4)\n",
        "\n",
        "       x = self.enc5_1(x)\n",
        "       x = self.relu(x)\n",
        "       x = self.enc5_2(x)\n",
        "       x = self.relu(x)\n",
        "       x = self.upsample4(x)\n",
        "\n",
        "       # ❶ 인코더의 출력과 업샘플링된 이미지를 함침\n",
        "       x = torch.cat([x, e4], dim=1)\n",
        "       x = self.dec4_1(x)\n",
        "       x = self.relu(x)\n",
        "       x = self.dec4_2(x)\n",
        "       x = self.relu(x)\n",
        "\n",
        "       x = self.upsample3(x)\n",
        "       x = torch.cat([x, e3], dim=1)\n",
        "       x = self.dec3_1(x)\n",
        "       x = self.relu(x)\n",
        "       x = self.dec3_2(x)\n",
        "       x = self.relu(x)\n",
        "\n",
        "       x = self.upsample2(x)\n",
        "       x = torch.cat([x, e2], dim=1)\n",
        "       x = self.dec2_1(x)\n",
        "       x = self.relu(x)\n",
        "       x = self.dec2_2(x)\n",
        "       x = self.relu(x)\n",
        "\n",
        "       x = self.upsample1(x)\n",
        "       x = torch.cat([x, e1], dim=1)\n",
        "       x = self.dec1_1(x)\n",
        "       x = self.relu(x)\n",
        "       x = self.dec1_2(x)\n",
        "       x = self.relu(x)\n",
        "       x = self.dec1_3(x)\n",
        "\n",
        "       x = torch.squeeze(x)  # ➋ 흑백 이미지를 그리기 위해 채널을 없앰\n",
        "\n",
        "       return x"
      ],
      "metadata": {
        "id": "vZvaX-IGarqp"
      },
      "execution_count": null,
      "outputs": []
    },
    {
      "cell_type": "markdown",
      "source": [
        "# 데이터 전처리 정의"
      ],
      "metadata": {
        "id": "x4UiIVV0a63X"
      }
    },
    {
      "cell_type": "code",
      "source": [
        "import tqdm\n",
        "\n",
        "from torchvision.transforms import Compose\n",
        "from torchvision.transforms import ToTensor, Resize\n",
        "from torch.optim.adam import Adam\n",
        "from torch.utils.data.dataloader import DataLoader\n",
        "\n",
        "device = \"cuda\" if torch.cuda.is_available() else \"cpu\"\n",
        "\n",
        "\n",
        "# 데이터 전처리 정의\n",
        "transform = Compose([\n",
        "   Resize((128, 128)),\n",
        "   ToTensor()\n",
        "])"
      ],
      "metadata": {
        "id": "HyiQmp6odZ1r"
      },
      "execution_count": null,
      "outputs": []
    },
    {
      "cell_type": "markdown",
      "source": [
        "# 데이터 불러오기"
      ],
      "metadata": {
        "id": "jC4RBFFYoW5t"
      }
    },
    {
      "cell_type": "code",
      "source": [
        "## 학습 데이터 ##\n",
        "train_set = Pets(path_to_img=path_to_image,\n",
        "                 path_to_anno=path_to_annotation,\n",
        "                 transforms=transform)\n",
        "\n",
        "# 평가용 데이터\n",
        "test_set = Pets(path_to_img=path_to_image,\n",
        "                path_to_anno=path_to_annotation, \n",
        "                transforms=transform, \n",
        "                train=False)\n",
        "\n",
        "train_loader = DataLoader(train_set, batch_size=32, shuffle=True)\n",
        "test_loader = DataLoader(test_set)"
      ],
      "metadata": {
        "id": "32XQwkNSCGmf"
      },
      "execution_count": null,
      "outputs": []
    },
    {
      "cell_type": "markdown",
      "source": [
        "# 학습에 필요한 요소 정의"
      ],
      "metadata": {
        "id": "mNgR9nmZQTzE"
      }
    },
    {
      "cell_type": "code",
      "source": [
        "# 모델 정의\n",
        "model = UNet().to(device)\n",
        "\n",
        "\n",
        "# 학습률 정의\n",
        "learning_rate = 0.0001\n",
        "\n",
        "# 최적화 정의\n",
        "optim = Adam(params=model.parameters(), lr=learning_rate)\n"
      ],
      "metadata": {
        "id": "HlBMN_MQQUA-"
      },
      "execution_count": null,
      "outputs": []
    },
    {
      "cell_type": "markdown",
      "source": [
        "# 학습 루프 정의"
      ],
      "metadata": {
        "id": "bsx634vYKCnL"
      }
    },
    {
      "cell_type": "code",
      "source": [
        "for epoch in range(200):\n",
        "  ## train_loader를 tqdm.tqdm으로 장착한다 ##\n",
        "   iterator = tqdm.tqdm(train_loader)\n",
        "\n",
        "   for data, label in iterator:\n",
        "       optim.zero_grad()  # 이전 루프의 기울기 초기화\n",
        "\n",
        "       preds = model(data.to(device))  # 모델의 예측값 출력\n",
        "       loss = nn.BCEWithLogitsLoss()(\n",
        "           preds, \n",
        "           ## label을 type(torch.FloatTensor)로 탠서 실수형을 변환해야 한다\n",
        "           label.type(torch.FloatTensor).to(device))  # 손실 계산\n",
        "       loss.backward()  # 오차 역전파\n",
        "\n",
        "       optim.step()  # 최적화\n",
        "\n",
        "## iterator.set_description()으로 해야한다 ##\n",
        "       iterator.set_description(f\"epoch{epoch+1} loss:{loss.item()}\")\n",
        "\n",
        "torch.save(model.state_dict(), \"./UNet.pth\")  # 모델 가중치 저장"
      ],
      "metadata": {
        "id": "VTpVnI_XKFj8"
      },
      "execution_count": null,
      "outputs": []
    },
    {
      "cell_type": "markdown",
      "source": [
        "# 모델 성능 평가"
      ],
      "metadata": {
        "id": "8swKbJagLSNY"
      }
    },
    {
      "cell_type": "code",
      "source": [
        "import matplotlib.pyplot as plt\n",
        "\n",
        "model.load_state_dict(torch.load(\"./UNet.pth\", map_location=\"cpu\"))\n",
        "data, label = test_set[1]\n",
        "pred = model(torch.unsqueeze(data.to(device), dim=0))>0.5  # ❶ 픽셀을 이진 분류함\n",
        "\n",
        "with torch.no_grad():\n",
        "   plt.subplot(1, 2, 1)\n",
        "   plt.title(\"Predicted\")\n",
        "   plt.imshow(pred)\n",
        "   plt.subplot(1, 2, 2)\n",
        "   plt.title(\"Real\")\n",
        "   plt.imshow(label)\n",
        "   plt.show()"
      ],
      "metadata": {
        "colab": {
          "base_uri": "https://localhost:8080/",
          "height": 216
        },
        "id": "ecPI8LiCKaT1",
        "outputId": "18fe49ca-615b-4dc1-e024-70c7494f34fb"
      },
      "execution_count": null,
      "outputs": [
        {
          "output_type": "display_data",
          "data": {
            "text/plain": [
              "<Figure size 432x288 with 2 Axes>"
            ],
            "image/png": "[encoded data removed]"
          },
          "metadata": {
            "needs_background": "light"
          }
        }
      ]
    }
  ]
}